{
 "cells": [
  {
   "cell_type": "code",
   "execution_count": 1,
   "id": "fda05bfc",
   "metadata": {},
   "outputs": [],
   "source": [
    "import json\n",
    "import requests\n",
    "import streamlit as st\n",
    "from crewai.tools import BaseTool\n",
    "from pydantic import BaseModel, Field\n",
    "from unstructured.partition.html import partition_html\n",
    "from crewai import Agent, Task\n",
    "#from langchain_openai import ChatOpenAI\n",
    "from langchain_groq import ChatGroq\n",
    "from crewai import LLM"
   ]
  },
  {
   "cell_type": "code",
   "execution_count": 11,
   "id": "760932f3",
   "metadata": {},
   "outputs": [
    {
     "data": {
      "text/plain": [
       "'Please sign-up for a paid account at https://www.browserless.io/pricing/'"
      ]
     },
     "execution_count": 11,
     "metadata": {},
     "output_type": "execute_result"
    }
   ],
   "source": [
    "URL = \"https://chrome.browserless.io/content?token={S9X1uyuKvnCNoE518df7f849b3b68fbb79953bbf56}\"\n",
    "payload = json.dumps({\"url\": \"www.moneycontrol.com\"})\n",
    "headers = {\n",
    "    \"Content-Type\": \"application/json\",\n",
    "    \"Cache-Control\": \"no-cache\"\n",
    "}\n",
    "requests.request(\"POST\",URL,data=payload,headers=headers).text"
   ]
  },
  {
   "cell_type": "code",
   "execution_count": null,
   "id": "1e1019f4",
   "metadata": {},
   "outputs": [],
   "source": [
    "'Please sign-up for a paid account at https://www.browserless.io/pricing/'"
   ]
  },
  {
   "cell_type": "code",
   "execution_count": null,
   "id": "b512ac56",
   "metadata": {},
   "outputs": [
    {
     "data": {
      "text/plain": [
       "'Please sign-up for a paid account at https://www.browserless.io/pricing/'"
      ]
     },
     "execution_count": 9,
     "metadata": {},
     "output_type": "execute_result"
    }
   ],
   "source": []
  },
  {
   "cell_type": "code",
   "execution_count": null,
   "id": "bf218f44",
   "metadata": {},
   "outputs": [],
   "source": []
  }
 ],
 "metadata": {
  "kernelspec": {
   "display_name": ".tripvenv",
   "language": "python",
   "name": "python3"
  },
  "language_info": {
   "codemirror_mode": {
    "name": "ipython",
    "version": 3
   },
   "file_extension": ".py",
   "mimetype": "text/x-python",
   "name": "python",
   "nbconvert_exporter": "python",
   "pygments_lexer": "ipython3",
   "version": "3.12.7"
  }
 },
 "nbformat": 4,
 "nbformat_minor": 5
}
